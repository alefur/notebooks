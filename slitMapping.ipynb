{
 "cells": [
  {
   "cell_type": "code",
   "execution_count": 1,
   "id": "c0d76a1e-a799-4b23-aaf4-f909108bbe37",
   "metadata": {},
   "outputs": [],
   "source": [
    "from pfs.utils.fiberids import FiberIds\n",
    "import pandas as pd\n",
    "import numpy as np\n",
    "import matplotlib.pyplot as plt"
   ]
  },
  {
   "cell_type": "code",
   "execution_count": 2,
   "id": "4d46bbeb-6597-4c54-9264-3fa7b7a5e58f",
   "metadata": {},
   "outputs": [],
   "source": [
    "rlh = pd.read_csv('rlhoussaine.csv', index_col=0)"
   ]
  },
  {
   "cell_type": "code",
   "execution_count": 3,
   "id": "693cd8ad-91b5-40b8-8306-b4e819dc9df8",
   "metadata": {},
   "outputs": [],
   "source": [
    "gfm = FiberIds()\n",
    "gfmDf = pd.DataFrame(gfm.data)\n",
    "\n",
    "scienceFiberId = np.arange(2394) + 1\n",
    "scienceFiber = gfmDf.set_index('scienceFiberId').loc[scienceFiberId].reset_index()"
   ]
  },
  {
   "cell_type": "code",
   "execution_count": 4,
   "id": "3cd4c3d7-9ad3-45c2-b51c-7ed55b18b036",
   "metadata": {},
   "outputs": [],
   "source": [
    "class MTP(object):\n",
    "    holePerRow = 8\n",
    "    nHoles = 32\n",
    "    spacing = 0.3\n",
    "    \n",
    "    @staticmethod\n",
    "    def getHolePosition(xOrigin, yOrigin):\n",
    "        x = np.array([i%MTP.holePerRow * MTP.spacing for i in range(32) ]) + xOrigin\n",
    "        y = np.array([i//MTP.holePerRow * MTP.spacing for i in range(32)])*-1  + yOrigin\n",
    "        return pd.DataFrame(dict(x=x,y=y))\n",
    "    \n",
    "\n",
    "class GangConnector(object):\n",
    "    xDistMTP = 11.273\n",
    "    yDistMTP = 6.85\n",
    "    nMtpPerCol = 2\n",
    "    \n",
    "    @staticmethod\n",
    "    def getHolePosition(df):\n",
    "        dfs = [] \n",
    "        iMtp = 0\n",
    "        for mtpName, perMtp in df.groupby('mtp', sort=False):\n",
    "            mtpProperties = perMtp.copy()\n",
    "\n",
    "            xOrigin = iMtp%GangConnector.nMtpPerCol * GangConnector.xDistMTP\n",
    "            yOrigin = iMtp//GangConnector.nMtpPerCol * GangConnector.yDistMTP * -1\n",
    "            mtpCoord = MTP.getHolePosition(xOrigin, yOrigin)\n",
    "            \n",
    "            mtpProperties['xGang'] = mtpCoord.loc[perMtp.mtpHoleId-1].x.to_numpy()\n",
    "            mtpProperties['yGang'] = mtpCoord.loc[perMtp.mtpHoleId-1].y.to_numpy()\n",
    "            dfs.append(mtpProperties)\n",
    "            \n",
    "            iMtp+=1\n",
    "            \n",
    "        return pd.concat(dfs)\n",
    "            "
   ]
  },
  {
   "cell_type": "code",
   "execution_count": 5,
   "id": "997f0e71-0c3b-4e15-888c-da8759e5e1ba",
   "metadata": {},
   "outputs": [],
   "source": [
    "res = []\n",
    "\n",
    "for j, row in scienceFiber.iterrows():\n",
    "    n, i, specId, mtpHole, mtpScience = row.mtp_A.split('-')\n",
    "    res.append((row.fiberId, specId, f'{n}-{i}', n[0], int(mtpHole)))\n",
    "    \n",
    "res = pd.DataFrame(res, columns=['fiberId', 'specId', 'mtp', 'gang', 'mtpHoleId'])"
   ]
  },
  {
   "cell_type": "code",
   "execution_count": 6,
   "id": "f613b790-d6b3-48d7-8dff-c770871dd27b",
   "metadata": {},
   "outputs": [],
   "source": [
    "dfs = []\n",
    "\n",
    "for (specId, gang), df in res.groupby(['specId', 'gang']):\n",
    "    holePosition = GangConnector.getHolePosition(df)\n",
    "    holePosition['gang'] = gang\n",
    "    dfs.append(holePosition)\n",
    "    \n",
    "dfs = pd.concat(dfs).sort_values('fiberId')"
   ]
  },
  {
   "cell_type": "code",
   "execution_count": 7,
   "id": "f91cbffb-38f7-4151-8e1d-8aad8d151c5c",
   "metadata": {},
   "outputs": [],
   "source": [
    "scienceFiber['xGang'] = dfs.xGang\n",
    "scienceFiber['yGang'] = dfs.yGang\n",
    "scienceFiber['gang'] = dfs.gang"
   ]
  },
  {
   "cell_type": "code",
   "execution_count": 8,
   "id": "7f114bc9-8361-4509-aeed-f49067b7c62a",
   "metadata": {},
   "outputs": [],
   "source": [
    "sm3 = scienceFiber.query('spectrographId==3')"
   ]
  },
  {
   "cell_type": "code",
   "execution_count": 9,
   "id": "a6fa895d-9079-4caf-9acf-8bcc02a61a4b",
   "metadata": {},
   "outputs": [],
   "source": [
    "%matplotlib widget"
   ]
  },
  {
   "cell_type": "code",
   "execution_count": 10,
   "id": "2567224a-6f5f-443b-9991-2f04cf97c936",
   "metadata": {},
   "outputs": [
    {
     "data": {
      "application/vnd.jupyter.widget-view+json": {
       "model_id": "072f422d82214575acb12aa0ffbaf87d",
       "version_major": 2,
       "version_minor": 0
      },
      "text/plain": [
       "Canvas(toolbar=Toolbar(toolitems=[('Home', 'Reset original view', 'home', 'home'), ('Back', 'Back to previous …"
      ]
     },
     "metadata": {},
     "output_type": "display_data"
    }
   ],
   "source": [
    "plt.figure()\n",
    "\n",
    "for gang, holePosition in sm3.groupby('gang'):\n",
    "\n",
    "    plt.scatter(holePosition.xGang, holePosition.yGang, s=5., label=gang, alpha=0.4)\n",
    "    \n",
    "    \n",
    "plt.gca().set_aspect('equal');\n",
    "plt.legend(loc='best')\n",
    "\n",
    "plt.grid()"
   ]
  }
 ],
 "metadata": {
  "kernelspec": {
   "display_name": "Python 3 (ipykernel)",
   "language": "python",
   "name": "python3"
  },
  "language_info": {
   "codemirror_mode": {
    "name": "ipython",
    "version": 3
   },
   "file_extension": ".py",
   "mimetype": "text/x-python",
   "name": "python",
   "nbconvert_exporter": "python",
   "pygments_lexer": "ipython3",
   "version": "3.9.7"
  }
 },
 "nbformat": 4,
 "nbformat_minor": 5
}
